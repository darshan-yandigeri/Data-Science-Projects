{
 "cells": [
  {
   "cell_type": "markdown",
   "metadata": {},
   "source": [
    "# Project: Create a Customer Segmentation Report for online sales data"
   ]
  },
  {
   "cell_type": "markdown",
   "metadata": {},
   "source": [
    "In this project we will analyze the transactional data from December 1st 2010 until December 9th 2011 for a UK-based online retail obtained from UCI Machine Learning. \n",
    "\n",
    "Each row represents the transaction that occurs. It includes the product name, quantity, price, and other columns that represents ID.\n",
    "\n",
    "We will use unsupervised learning technique(K-Means Clustering) to perform customer segmentation, identifying the parts of the population that best describe the core customer base of the company."
   ]
  },
  {
   "cell_type": "markdown",
   "metadata": {},
   "source": [
<<<<<<< HEAD
    "# 1. Set Working Directory"
   ]
  },
  {
   "cell_type": "code",
   "execution_count": 1,
   "metadata": {},
   "outputs": [],
   "source": [
    "import os\n",
    "\n",
    "os.chdir('S:\\Data Science Projects\\Data-Science-Projects\\Customer-Segmentation-Report-Online-Sales')"
   ]
  },
  {
   "cell_type": "markdown",
   "metadata": {},
   "source": [
    "# 2. Import Libraries"
=======
    "# 1. Import Libraries"
>>>>>>> a2b58e3b0542a9c263efc348f5659b46875e6b28
   ]
  },
  {
   "cell_type": "code",
   "execution_count": 3,
   "metadata": {},
   "outputs": [],
   "source": [
    "import pandas as pd\n",
    "import numpy as np\n",
    "\n",
    "import matplotlib.pyplot as plt\n",
    "import seaborn as sn\n",
    "\n",
    "from datetime import date, datetime\n",
    "\n",
    "from scipy import stats\n",
    "from sklearn.preprocessing import StandardScaler\n",
    "from sklearn.cluster import KMeans\n",
    "\n",
    "import warnings\n",
    "warnings.filterwarnings('ignore')"
   ]
  },
  {
   "cell_type": "markdown",
   "metadata": {},
   "source": [
<<<<<<< HEAD
    "# 3. Import Data"
=======
    "# 2. Import Data"
>>>>>>> a2b58e3b0542a9c263efc348f5659b46875e6b28
   ]
  },
  {
   "cell_type": "code",
   "execution_count": 4,
   "metadata": {},
   "outputs": [
    {
     "data": {
      "text/html": [
       "<div>\n",
       "<style scoped>\n",
       "    .dataframe tbody tr th:only-of-type {\n",
       "        vertical-align: middle;\n",
       "    }\n",
       "\n",
       "    .dataframe tbody tr th {\n",
       "        vertical-align: top;\n",
       "    }\n",
       "\n",
       "    .dataframe thead th {\n",
       "        text-align: right;\n",
       "    }\n",
       "</style>\n",
       "<table border=\"1\" class=\"dataframe\">\n",
       "  <thead>\n",
       "    <tr style=\"text-align: right;\">\n",
       "      <th></th>\n",
       "      <th>InvoiceNo</th>\n",
       "      <th>StockCode</th>\n",
       "      <th>Description</th>\n",
       "      <th>Quantity</th>\n",
       "      <th>InvoiceDate</th>\n",
       "      <th>UnitPrice</th>\n",
       "      <th>CustomerID</th>\n",
       "      <th>Country</th>\n",
       "    </tr>\n",
       "  </thead>\n",
       "  <tbody>\n",
       "    <tr>\n",
       "      <th>0</th>\n",
       "      <td>536365</td>\n",
       "      <td>85123A</td>\n",
       "      <td>WHITE HANGING HEART T-LIGHT HOLDER</td>\n",
       "      <td>6</td>\n",
       "      <td>2010-12-01 08:26:00</td>\n",
       "      <td>2.55</td>\n",
       "      <td>17850.0</td>\n",
       "      <td>United Kingdom</td>\n",
       "    </tr>\n",
       "    <tr>\n",
       "      <th>1</th>\n",
       "      <td>536365</td>\n",
       "      <td>71053</td>\n",
       "      <td>WHITE METAL LANTERN</td>\n",
       "      <td>6</td>\n",
       "      <td>2010-12-01 08:26:00</td>\n",
       "      <td>3.39</td>\n",
       "      <td>17850.0</td>\n",
       "      <td>United Kingdom</td>\n",
       "    </tr>\n",
       "  </tbody>\n",
       "</table>\n",
       "</div>"
      ],
      "text/plain": [
       "  InvoiceNo StockCode                         Description  Quantity  \\\n",
       "0    536365    85123A  WHITE HANGING HEART T-LIGHT HOLDER         6   \n",
       "1    536365     71053                 WHITE METAL LANTERN         6   \n",
       "\n",
       "           InvoiceDate  UnitPrice  CustomerID         Country  \n",
       "0  2010-12-01 08:26:00       2.55     17850.0  United Kingdom  \n",
       "1  2010-12-01 08:26:00       3.39     17850.0  United Kingdom  "
      ]
     },
     "execution_count": 4,
     "metadata": {},
     "output_type": "execute_result"
    }
   ],
   "source": [
    "df = pd.read_csv('data_sales.csv')\n",
    "df.head(2)"
   ]
  },
  {
   "cell_type": "markdown",
   "metadata": {},
   "source": [
<<<<<<< HEAD
    "# 4. Data Exploration"
=======
    "# 3. Data Exploration"
>>>>>>> a2b58e3b0542a9c263efc348f5659b46875e6b28
   ]
  },
  {
   "cell_type": "code",
   "execution_count": 5,
   "metadata": {},
   "outputs": [
    {
     "data": {
      "text/plain": [
       "(541909, 8)"
      ]
     },
     "execution_count": 5,
     "metadata": {},
     "output_type": "execute_result"
    }
   ],
   "source": [
    "df.shape"
   ]
  },
  {
   "cell_type": "code",
   "execution_count": 6,
   "metadata": {},
   "outputs": [
    {
     "data": {
      "text/plain": [
       "InvoiceNo           0\n",
       "StockCode           0\n",
       "Description      1454\n",
       "Quantity            0\n",
       "InvoiceDate         0\n",
       "UnitPrice           0\n",
       "CustomerID     135080\n",
       "Country             0\n",
       "dtype: int64"
      ]
     },
     "execution_count": 6,
     "metadata": {},
     "output_type": "execute_result"
    }
   ],
   "source": [
    "# Check for null values in dataset\n",
    "\n",
    "df.isna().sum()"
   ]
  },
  {
   "cell_type": "code",
   "execution_count": 7,
   "metadata": {},
   "outputs": [
    {
     "data": {
      "text/html": [
       "<div>\n",
       "<style scoped>\n",
       "    .dataframe tbody tr th:only-of-type {\n",
       "        vertical-align: middle;\n",
       "    }\n",
       "\n",
       "    .dataframe tbody tr th {\n",
       "        vertical-align: top;\n",
       "    }\n",
       "\n",
       "    .dataframe thead th {\n",
       "        text-align: right;\n",
       "    }\n",
       "</style>\n",
       "<table border=\"1\" class=\"dataframe\">\n",
       "  <thead>\n",
       "    <tr style=\"text-align: right;\">\n",
       "      <th></th>\n",
       "      <th>InvoiceNo</th>\n",
       "      <th>StockCode</th>\n",
       "      <th>Description</th>\n",
       "      <th>Quantity</th>\n",
       "      <th>InvoiceDate</th>\n",
       "      <th>UnitPrice</th>\n",
       "      <th>CustomerID</th>\n",
       "      <th>Country</th>\n",
       "    </tr>\n",
       "  </thead>\n",
       "  <tbody>\n",
       "    <tr>\n",
       "      <th>0</th>\n",
       "      <td>536365</td>\n",
       "      <td>85123A</td>\n",
       "      <td>WHITE HANGING HEART T-LIGHT HOLDER</td>\n",
       "      <td>6</td>\n",
       "      <td>2010-12-01 08:26:00</td>\n",
       "      <td>2.55</td>\n",
       "      <td>17850.0</td>\n",
       "      <td>United Kingdom</td>\n",
       "    </tr>\n",
       "    <tr>\n",
       "      <th>1</th>\n",
       "      <td>536365</td>\n",
       "      <td>71053</td>\n",
       "      <td>WHITE METAL LANTERN</td>\n",
       "      <td>6</td>\n",
       "      <td>2010-12-01 08:26:00</td>\n",
       "      <td>3.39</td>\n",
       "      <td>17850.0</td>\n",
       "      <td>United Kingdom</td>\n",
       "    </tr>\n",
       "  </tbody>\n",
       "</table>\n",
       "</div>"
      ],
      "text/plain": [
       "  InvoiceNo StockCode                         Description  Quantity  \\\n",
       "0    536365    85123A  WHITE HANGING HEART T-LIGHT HOLDER         6   \n",
       "1    536365     71053                 WHITE METAL LANTERN         6   \n",
       "\n",
       "           InvoiceDate  UnitPrice  CustomerID         Country  \n",
       "0  2010-12-01 08:26:00       2.55     17850.0  United Kingdom  \n",
       "1  2010-12-01 08:26:00       3.39     17850.0  United Kingdom  "
      ]
     },
     "execution_count": 7,
     "metadata": {},
     "output_type": "execute_result"
    }
   ],
   "source": [
    "# Select only the data without null values of CustomerID\n",
    "\n",
    "df = df[df.CustomerID.notna()]\n",
    "df.head(2)"
   ]
  },
  {
   "cell_type": "code",
   "execution_count": 8,
   "metadata": {},
   "outputs": [
    {
     "data": {
      "text/plain": [
       "(406829, 8)"
      ]
     },
     "execution_count": 8,
     "metadata": {},
     "output_type": "execute_result"
    }
   ],
   "source": [
    "df.shape"
   ]
  },
  {
   "cell_type": "code",
   "execution_count": 9,
   "metadata": {},
   "outputs": [
    {
     "data": {
      "text/html": [
       "<div>\n",
       "<style scoped>\n",
       "    .dataframe tbody tr th:only-of-type {\n",
       "        vertical-align: middle;\n",
       "    }\n",
       "\n",
       "    .dataframe tbody tr th {\n",
       "        vertical-align: top;\n",
       "    }\n",
       "\n",
       "    .dataframe thead th {\n",
       "        text-align: right;\n",
       "    }\n",
       "</style>\n",
       "<table border=\"1\" class=\"dataframe\">\n",
       "  <thead>\n",
       "    <tr style=\"text-align: right;\">\n",
       "      <th></th>\n",
       "      <th>InvoiceNo</th>\n",
       "      <th>StockCode</th>\n",
       "      <th>Description</th>\n",
       "      <th>Quantity</th>\n",
       "      <th>InvoiceDate</th>\n",
       "      <th>UnitPrice</th>\n",
       "      <th>CustomerID</th>\n",
       "      <th>Country</th>\n",
       "    </tr>\n",
       "  </thead>\n",
       "  <tbody>\n",
       "    <tr>\n",
       "      <th>47912</th>\n",
       "      <td>540456</td>\n",
       "      <td>48185</td>\n",
       "      <td>DOORMAT FAIRY CAKE</td>\n",
       "      <td>2</td>\n",
       "      <td>2011-01-07 12:14:00</td>\n",
       "      <td>7.95</td>\n",
       "      <td>13534.0</td>\n",
       "      <td>United Kingdom</td>\n",
       "    </tr>\n",
       "    <tr>\n",
       "      <th>342630</th>\n",
       "      <td>566891</td>\n",
       "      <td>23013</td>\n",
       "      <td>GLASS APOTHECARY BOTTLE TONIC</td>\n",
       "      <td>4</td>\n",
       "      <td>2011-09-15 13:51:00</td>\n",
       "      <td>3.95</td>\n",
       "      <td>14894.0</td>\n",
       "      <td>United Kingdom</td>\n",
       "    </tr>\n",
       "  </tbody>\n",
       "</table>\n",
       "</div>"
      ],
      "text/plain": [
       "       InvoiceNo StockCode                    Description  Quantity  \\\n",
       "47912     540456     48185             DOORMAT FAIRY CAKE         2   \n",
       "342630    566891     23013  GLASS APOTHECARY BOTTLE TONIC         4   \n",
       "\n",
       "                InvoiceDate  UnitPrice  CustomerID         Country  \n",
       "47912   2011-01-07 12:14:00       7.95     13534.0  United Kingdom  \n",
       "342630  2011-09-15 13:51:00       3.95     14894.0  United Kingdom  "
      ]
     },
     "execution_count": 9,
     "metadata": {},
     "output_type": "execute_result"
    }
   ],
   "source": [
    "# Select only 10000 observations\n",
    "\n",
    "df_fix = df.sample(10000, random_state=42)\n",
    "df_fix.head(2)"
   ]
  },
  {
   "cell_type": "markdown",
   "metadata": {},
   "source": [
    "To segmenting customer, there are some metrics that we can use, such as when the customer buys the product for last time,\n",
    "how frequent the customer buy the product, and how much the customer pays for the product. We will call this segmentation\n",
    "as RFM segmentation.\n",
    "\n",
    "To get the number of days for recency column, we can subtract the snapshot date with the date where the transaction occurred.\n",
    "\n",
    "To create the frequency column, we can count how much transactions by each customer.\n",
    "\n",
    "Lastly, to create the monetary value column, we can sum all transactions for each customer."
   ]
  },
  {
   "cell_type": "code",
   "execution_count": 10,
   "metadata": {},
   "outputs": [
    {
     "data": {
      "text/html": [
       "<div>\n",
       "<style scoped>\n",
       "    .dataframe tbody tr th:only-of-type {\n",
       "        vertical-align: middle;\n",
       "    }\n",
       "\n",
       "    .dataframe tbody tr th {\n",
       "        vertical-align: top;\n",
       "    }\n",
       "\n",
       "    .dataframe thead th {\n",
       "        text-align: right;\n",
       "    }\n",
       "</style>\n",
       "<table border=\"1\" class=\"dataframe\">\n",
       "  <thead>\n",
       "    <tr style=\"text-align: right;\">\n",
       "      <th></th>\n",
       "      <th>InvoiceNo</th>\n",
       "      <th>StockCode</th>\n",
       "      <th>Description</th>\n",
       "      <th>Quantity</th>\n",
       "      <th>InvoiceDate</th>\n",
       "      <th>UnitPrice</th>\n",
       "      <th>CustomerID</th>\n",
       "      <th>Country</th>\n",
       "    </tr>\n",
       "  </thead>\n",
       "  <tbody>\n",
       "    <tr>\n",
       "      <th>47912</th>\n",
       "      <td>540456</td>\n",
       "      <td>48185</td>\n",
       "      <td>DOORMAT FAIRY CAKE</td>\n",
       "      <td>2</td>\n",
       "      <td>2011-01-07</td>\n",
       "      <td>7.95</td>\n",
       "      <td>13534.0</td>\n",
       "      <td>United Kingdom</td>\n",
       "    </tr>\n",
       "    <tr>\n",
       "      <th>342630</th>\n",
       "      <td>566891</td>\n",
       "      <td>23013</td>\n",
       "      <td>GLASS APOTHECARY BOTTLE TONIC</td>\n",
       "      <td>4</td>\n",
       "      <td>2011-09-15</td>\n",
       "      <td>3.95</td>\n",
       "      <td>14894.0</td>\n",
       "      <td>United Kingdom</td>\n",
       "    </tr>\n",
       "  </tbody>\n",
       "</table>\n",
       "</div>"
      ],
      "text/plain": [
       "       InvoiceNo StockCode                    Description  Quantity  \\\n",
       "47912     540456     48185             DOORMAT FAIRY CAKE         2   \n",
       "342630    566891     23013  GLASS APOTHECARY BOTTLE TONIC         4   \n",
       "\n",
       "       InvoiceDate  UnitPrice  CustomerID         Country  \n",
       "47912   2011-01-07       7.95     13534.0  United Kingdom  \n",
       "342630  2011-09-15       3.95     14894.0  United Kingdom  "
      ]
     },
     "execution_count": 10,
     "metadata": {},
     "output_type": "execute_result"
    }
   ],
   "source": [
    "# Create The RFM Table - Recency, Frequency, Monetary\n",
    "\n",
    "# Calculating Recency\n",
    "\n",
    "df_fix['InvoiceDate'] = pd.to_datetime(df_fix['InvoiceDate']).dt.date\n",
    "df_fix.head(2)"
   ]
  },
  {
   "cell_type": "code",
   "execution_count": 11,
   "metadata": {},
   "outputs": [
    {
     "data": {
      "text/html": [
       "<div>\n",
       "<style scoped>\n",
       "    .dataframe tbody tr th:only-of-type {\n",
       "        vertical-align: middle;\n",
       "    }\n",
       "\n",
       "    .dataframe tbody tr th {\n",
       "        vertical-align: top;\n",
       "    }\n",
       "\n",
       "    .dataframe thead th {\n",
       "        text-align: right;\n",
       "    }\n",
       "</style>\n",
       "<table border=\"1\" class=\"dataframe\">\n",
       "  <thead>\n",
       "    <tr style=\"text-align: right;\">\n",
       "      <th></th>\n",
       "      <th>InvoiceNo</th>\n",
       "      <th>StockCode</th>\n",
       "      <th>Description</th>\n",
       "      <th>Quantity</th>\n",
       "      <th>InvoiceDate</th>\n",
       "      <th>UnitPrice</th>\n",
       "      <th>CustomerID</th>\n",
       "      <th>Country</th>\n",
       "      <th>total_sum</th>\n",
       "    </tr>\n",
       "  </thead>\n",
       "  <tbody>\n",
       "    <tr>\n",
       "      <th>47912</th>\n",
       "      <td>540456</td>\n",
       "      <td>48185</td>\n",
       "      <td>DOORMAT FAIRY CAKE</td>\n",
       "      <td>2</td>\n",
       "      <td>2011-01-07</td>\n",
       "      <td>7.95</td>\n",
       "      <td>13534.0</td>\n",
       "      <td>United Kingdom</td>\n",
       "      <td>15.9</td>\n",
       "    </tr>\n",
       "    <tr>\n",
       "      <th>342630</th>\n",
       "      <td>566891</td>\n",
       "      <td>23013</td>\n",
       "      <td>GLASS APOTHECARY BOTTLE TONIC</td>\n",
       "      <td>4</td>\n",
       "      <td>2011-09-15</td>\n",
       "      <td>3.95</td>\n",
       "      <td>14894.0</td>\n",
       "      <td>United Kingdom</td>\n",
       "      <td>15.8</td>\n",
       "    </tr>\n",
       "  </tbody>\n",
       "</table>\n",
       "</div>"
      ],
      "text/plain": [
       "       InvoiceNo StockCode                    Description  Quantity  \\\n",
       "47912     540456     48185             DOORMAT FAIRY CAKE         2   \n",
       "342630    566891     23013  GLASS APOTHECARY BOTTLE TONIC         4   \n",
       "\n",
       "       InvoiceDate  UnitPrice  CustomerID         Country  total_sum  \n",
       "47912   2011-01-07       7.95     13534.0  United Kingdom       15.9  \n",
       "342630  2011-09-15       3.95     14894.0  United Kingdom       15.8  "
      ]
     },
     "execution_count": 11,
     "metadata": {},
     "output_type": "execute_result"
    }
   ],
   "source": [
    "df_fix['total_sum'] = df_fix['Quantity']*df_fix['UnitPrice']\n",
    "df_fix.head(2)"
   ]
  },
  {
   "cell_type": "code",
   "execution_count": 13,
   "metadata": {},
   "outputs": [
    {
     "data": {
      "text/plain": [
       "datetime.date(2011, 12, 10)"
      ]
     },
     "execution_count": 13,
     "metadata": {},
     "output_type": "execute_result"
    }
   ],
   "source": [
    "import datetime\n",
    "\n",
    "snapshot_date = max(df_fix.InvoiceDate) + datetime.timedelta(days=1)\n",
    "snapshot_date"
   ]
  },
  {
   "cell_type": "code",
   "execution_count": 14,
   "metadata": {},
   "outputs": [
    {
     "data": {
      "text/html": [
       "<div>\n",
       "<style scoped>\n",
       "    .dataframe tbody tr th:only-of-type {\n",
       "        vertical-align: middle;\n",
       "    }\n",
       "\n",
       "    .dataframe tbody tr th {\n",
       "        vertical-align: top;\n",
       "    }\n",
       "\n",
       "    .dataframe thead th {\n",
       "        text-align: right;\n",
       "    }\n",
       "</style>\n",
       "<table border=\"1\" class=\"dataframe\">\n",
       "  <thead>\n",
       "    <tr style=\"text-align: right;\">\n",
       "      <th></th>\n",
       "      <th>InvoiceDate</th>\n",
       "      <th>InvoiceNo</th>\n",
       "      <th>total_sum</th>\n",
       "    </tr>\n",
       "    <tr>\n",
       "      <th>CustomerID</th>\n",
       "      <th></th>\n",
       "      <th></th>\n",
       "      <th></th>\n",
       "    </tr>\n",
       "  </thead>\n",
       "  <tbody>\n",
       "    <tr>\n",
       "      <th>12347.0</th>\n",
       "      <td>40</td>\n",
       "      <td>5</td>\n",
       "      <td>133.20</td>\n",
       "    </tr>\n",
       "    <tr>\n",
       "      <th>12348.0</th>\n",
       "      <td>249</td>\n",
       "      <td>2</td>\n",
       "      <td>120.88</td>\n",
       "    </tr>\n",
       "    <tr>\n",
       "      <th>12349.0</th>\n",
       "      <td>19</td>\n",
       "      <td>2</td>\n",
       "      <td>312.75</td>\n",
       "    </tr>\n",
       "    <tr>\n",
       "      <th>12352.0</th>\n",
       "      <td>73</td>\n",
       "      <td>5</td>\n",
       "      <td>80.85</td>\n",
       "    </tr>\n",
       "    <tr>\n",
       "      <th>12354.0</th>\n",
       "      <td>233</td>\n",
       "      <td>2</td>\n",
       "      <td>33.30</td>\n",
       "    </tr>\n",
       "  </tbody>\n",
       "</table>\n",
       "</div>"
      ],
      "text/plain": [
       "            InvoiceDate  InvoiceNo  total_sum\n",
       "CustomerID                                   \n",
       "12347.0              40          5     133.20\n",
       "12348.0             249          2     120.88\n",
       "12349.0              19          2     312.75\n",
       "12352.0              73          5      80.85\n",
       "12354.0             233          2      33.30"
      ]
     },
     "execution_count": 14,
     "metadata": {},
     "output_type": "execute_result"
    }
   ],
   "source": [
    "customers = df_fix.groupby(['CustomerID']).agg({'InvoiceDate': lambda x: (snapshot_date - x.max()).days,\n",
    "                                                'InvoiceNo': 'count',\n",
    "                                                'total_sum': 'sum'})\n",
    "customers.head(5)"
   ]
  },
  {
   "cell_type": "code",
   "execution_count": 15,
   "metadata": {},
   "outputs": [
    {
     "data": {
      "text/html": [
       "<div>\n",
       "<style scoped>\n",
       "    .dataframe tbody tr th:only-of-type {\n",
       "        vertical-align: middle;\n",
       "    }\n",
       "\n",
       "    .dataframe tbody tr th {\n",
       "        vertical-align: top;\n",
       "    }\n",
       "\n",
       "    .dataframe thead th {\n",
       "        text-align: right;\n",
       "    }\n",
       "</style>\n",
       "<table border=\"1\" class=\"dataframe\">\n",
       "  <thead>\n",
       "    <tr style=\"text-align: right;\">\n",
       "      <th></th>\n",
       "      <th>Recency</th>\n",
       "      <th>Frequency</th>\n",
       "      <th>MonetaryValue</th>\n",
       "    </tr>\n",
       "    <tr>\n",
       "      <th>CustomerID</th>\n",
       "      <th></th>\n",
       "      <th></th>\n",
       "      <th></th>\n",
       "    </tr>\n",
       "  </thead>\n",
       "  <tbody>\n",
       "    <tr>\n",
       "      <th>12347.0</th>\n",
       "      <td>40</td>\n",
       "      <td>5</td>\n",
       "      <td>133.20</td>\n",
       "    </tr>\n",
       "    <tr>\n",
       "      <th>12348.0</th>\n",
       "      <td>249</td>\n",
       "      <td>2</td>\n",
       "      <td>120.88</td>\n",
       "    </tr>\n",
       "    <tr>\n",
       "      <th>12349.0</th>\n",
       "      <td>19</td>\n",
       "      <td>2</td>\n",
       "      <td>312.75</td>\n",
       "    </tr>\n",
       "    <tr>\n",
       "      <th>12352.0</th>\n",
       "      <td>73</td>\n",
       "      <td>5</td>\n",
       "      <td>80.85</td>\n",
       "    </tr>\n",
       "    <tr>\n",
       "      <th>12354.0</th>\n",
       "      <td>233</td>\n",
       "      <td>2</td>\n",
       "      <td>33.30</td>\n",
       "    </tr>\n",
       "  </tbody>\n",
       "</table>\n",
       "</div>"
      ],
      "text/plain": [
       "            Recency  Frequency  MonetaryValue\n",
       "CustomerID                                   \n",
       "12347.0          40          5         133.20\n",
       "12348.0         249          2         120.88\n",
       "12349.0          19          2         312.75\n",
       "12352.0          73          5          80.85\n",
       "12354.0         233          2          33.30"
      ]
     },
     "execution_count": 15,
     "metadata": {},
     "output_type": "execute_result"
    }
   ],
   "source": [
    "# Rename columns\n",
    "\n",
    "customers.rename(columns = {'InvoiceDate': 'Recency',\n",
    "                            'InvoiceNo': 'Frequency',\n",
    "                            'total_sum': 'MonetaryValue'}, inplace=True)\n",
    "customers.head(5)"
   ]
  },
  {
   "cell_type": "markdown",
   "metadata": {},
   "source": [
<<<<<<< HEAD
    "# 5. Handling Skewness and Scaling"
=======
    "# 4. Handling Skewness and Scaling"
>>>>>>> a2b58e3b0542a9c263efc348f5659b46875e6b28
   ]
  },
  {
   "cell_type": "code",
   "execution_count": 26,
   "metadata": {},
   "outputs": [
    {
     "data": {
      "image/png": "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\n",
      "text/plain": [
       "<Figure size 720x360 with 3 Axes>"
      ]
     },
     "metadata": {
      "needs_background": "light"
     },
     "output_type": "display_data"
    }
   ],
   "source": [
    "fig, ax = plt.subplots(1,3, figsize=(10,5))\n",
    "\n",
    "sn.distplot(customers['Recency'], ax=ax[0])\n",
    "sn.distplot(customers['Frequency'], ax=ax[1])\n",
    "sn.distplot(customers['MonetaryValue'], ax=ax[2])\n",
    "plt.show()"
   ]
  },
  {
   "cell_type": "markdown",
   "metadata": {},
   "source": [
    "Data looks to be highly skewed\n",
    "\n",
    "We have to transform the data, so it has a more symmetrical form\n",
    "\n",
    "- log transformation\n",
    "- square root transformation\n",
    "- box-cox transformation"
   ]
  },
  {
   "cell_type": "code",
   "execution_count": 30,
   "metadata": {},
   "outputs": [
    {
     "data": {
      "image/png": "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\n",
      "text/plain": [
       "<Figure size 720x360 with 3 Axes>"
      ]
     },
     "metadata": {
      "needs_background": "light"
     },
     "output_type": "display_data"
    }
   ],
   "source": [
    "# Transforming Recency column\n",
    "\n",
    "fig, ax = plt.subplots(1,3, figsize=(10,5))\n",
    "\n",
    "sn.distplot(np.log(customers['Recency']), ax=ax[0])\n",
    "sn.distplot(np.sqrt(customers['Recency']), ax=ax[1])\n",
    "sn.distplot(stats.boxcox(customers['Recency'])[0], ax=ax[2])\n",
    "plt.show()"
   ]
  },
  {
   "cell_type": "code",
   "execution_count": 31,
   "metadata": {},
   "outputs": [
    {
     "data": {
      "image/png": "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\n",
      "text/plain": [
       "<Figure size 720x360 with 3 Axes>"
      ]
     },
     "metadata": {
      "needs_background": "light"
     },
     "output_type": "display_data"
    }
   ],
   "source": [
    "# Transforming Frequency column\n",
    "\n",
    "fig, ax = plt.subplots(1,3, figsize=(10,5))\n",
    "\n",
    "sn.distplot(np.log(customers['Frequency']), ax=ax[0])\n",
    "sn.distplot(np.sqrt(customers['Frequency']), ax=ax[1])\n",
    "sn.distplot(stats.boxcox(customers['Frequency'])[0], ax=ax[2])\n",
    "plt.show()"
   ]
  },
  {
   "cell_type": "markdown",
   "metadata": {},
   "source": [
    "### Conclusion: Boxcox transformation looks more symmetrical than log & square root"
   ]
  },
  {
   "cell_type": "code",
   "execution_count": 32,
   "metadata": {},
   "outputs": [
    {
     "data": {
      "text/plain": [
       "Recency           0.934282\n",
       "Frequency        14.765170\n",
       "MonetaryValue    16.626571\n",
       "dtype: float64"
      ]
     },
     "execution_count": 32,
     "metadata": {},
     "output_type": "execute_result"
    }
   ],
   "source": [
    "# Calculating skewness values to make sure of the above conclusion\n",
    "\n",
    "customers.skew()"
   ]
  },
  {
   "cell_type": "code",
   "execution_count": 89,
   "metadata": {},
   "outputs": [
    {
     "name": "stdout",
     "output_type": "stream",
     "text": [
      "-0.7240879565691651\n",
      "0.32268504660774666\n",
      "-0.10314760280640745\n"
     ]
    }
   ],
   "source": [
    "print(np.log(customers['Recency']).skew())\n",
    "print(np.sqrt(customers['Recency']).skew())\n",
    "print(pd.Series(stats.boxcox(customers['Recency'])[0]).skew())"
   ]
  },
  {
   "cell_type": "code",
   "execution_count": 90,
   "metadata": {},
   "outputs": [
    {
     "name": "stdout",
     "output_type": "stream",
     "text": [
      "0.8544076817818892\n",
      "3.6740079068619678\n",
      "0.161852745280711\n"
     ]
    }
   ],
   "source": [
    "print(np.log(customers['Frequency']).skew())\n",
    "print(np.sqrt(customers['Frequency']).skew())\n",
    "print(pd.Series(stats.boxcox(customers['Frequency'])[0]).skew())"
   ]
  },
  {
   "cell_type": "markdown",
   "metadata": {},
   "source": [
    "### Conclusion: Boxcox looks to be the best transformation with skewness close to 0"
   ]
  },
  {
   "cell_type": "code",
   "execution_count": 35,
   "metadata": {},
   "outputs": [],
   "source": [
    "# Note: Monetary needs to be transformed with cubic root as it has negative values"
   ]
  },
  {
   "cell_type": "code",
   "execution_count": 36,
   "metadata": {},
   "outputs": [],
   "source": [
    "customers_fix = pd.DataFrame()\n",
    "customers_fix[\"Recency\"] = stats.boxcox(customers['Recency'])[0]\n",
    "customers_fix[\"Frequency\"] = stats.boxcox(customers['Frequency'])[0]\n",
    "customers_fix[\"MonetaryValue\"] = np.cbrt(customers['MonetaryValue']).values"
   ]
  },
  {
   "cell_type": "code",
   "execution_count": 37,
   "metadata": {},
   "outputs": [
    {
     "data": {
      "text/html": [
       "<div>\n",
       "<style scoped>\n",
       "    .dataframe tbody tr th:only-of-type {\n",
       "        vertical-align: middle;\n",
       "    }\n",
       "\n",
       "    .dataframe tbody tr th {\n",
       "        vertical-align: top;\n",
       "    }\n",
       "\n",
       "    .dataframe thead th {\n",
       "        text-align: right;\n",
       "    }\n",
       "</style>\n",
       "<table border=\"1\" class=\"dataframe\">\n",
       "  <thead>\n",
       "    <tr style=\"text-align: right;\">\n",
       "      <th></th>\n",
       "      <th>Recency</th>\n",
       "      <th>Frequency</th>\n",
       "      <th>MonetaryValue</th>\n",
       "    </tr>\n",
       "  </thead>\n",
       "  <tbody>\n",
       "    <tr>\n",
       "      <th>0</th>\n",
       "      <td>6.152222</td>\n",
       "      <td>1.127547</td>\n",
       "      <td>5.107026</td>\n",
       "    </tr>\n",
       "    <tr>\n",
       "      <th>1</th>\n",
       "      <td>12.180045</td>\n",
       "      <td>0.591193</td>\n",
       "      <td>4.944452</td>\n",
       "    </tr>\n",
       "    <tr>\n",
       "      <th>2</th>\n",
       "      <td>4.402867</td>\n",
       "      <td>0.591193</td>\n",
       "      <td>6.787853</td>\n",
       "    </tr>\n",
       "    <tr>\n",
       "      <th>3</th>\n",
       "      <td>7.832068</td>\n",
       "      <td>1.127547</td>\n",
       "      <td>4.324076</td>\n",
       "    </tr>\n",
       "    <tr>\n",
       "      <th>4</th>\n",
       "      <td>11.907953</td>\n",
       "      <td>0.591193</td>\n",
       "      <td>3.217225</td>\n",
       "    </tr>\n",
       "  </tbody>\n",
       "</table>\n",
       "</div>"
      ],
      "text/plain": [
       "     Recency  Frequency  MonetaryValue\n",
       "0   6.152222   1.127547       5.107026\n",
       "1  12.180045   0.591193       4.944452\n",
       "2   4.402867   0.591193       6.787853\n",
       "3   7.832068   1.127547       4.324076\n",
       "4  11.907953   0.591193       3.217225"
      ]
     },
     "execution_count": 37,
     "metadata": {},
     "output_type": "execute_result"
    }
   ],
   "source": [
    "customers_fix.head(5)"
   ]
  },
  {
   "cell_type": "code",
   "execution_count": 38,
   "metadata": {},
   "outputs": [
    {
     "data": {
      "text/html": [
       "<div>\n",
       "<style scoped>\n",
       "    .dataframe tbody tr th:only-of-type {\n",
       "        vertical-align: middle;\n",
       "    }\n",
       "\n",
       "    .dataframe tbody tr th {\n",
       "        vertical-align: top;\n",
       "    }\n",
       "\n",
       "    .dataframe thead th {\n",
       "        text-align: right;\n",
       "    }\n",
       "</style>\n",
       "<table border=\"1\" class=\"dataframe\">\n",
       "  <thead>\n",
       "    <tr style=\"text-align: right;\">\n",
       "      <th></th>\n",
       "      <th>Recency</th>\n",
       "      <th>Frequency</th>\n",
       "      <th>MonetaryValue</th>\n",
       "    </tr>\n",
       "  </thead>\n",
       "  <tbody>\n",
       "    <tr>\n",
       "      <th>count</th>\n",
       "      <td>2690.000000</td>\n",
       "      <td>2690.000000</td>\n",
       "      <td>2690.000000</td>\n",
       "    </tr>\n",
       "    <tr>\n",
       "      <th>mean</th>\n",
       "      <td>7.875988</td>\n",
       "      <td>0.600261</td>\n",
       "      <td>3.316543</td>\n",
       "    </tr>\n",
       "    <tr>\n",
       "      <th>std</th>\n",
       "      <td>3.491513</td>\n",
       "      <td>0.520911</td>\n",
       "      <td>1.760010</td>\n",
       "    </tr>\n",
       "    <tr>\n",
       "      <th>min</th>\n",
       "      <td>0.000000</td>\n",
       "      <td>0.000000</td>\n",
       "      <td>-7.485305</td>\n",
       "    </tr>\n",
       "    <tr>\n",
       "      <th>25%</th>\n",
       "      <td>5.186993</td>\n",
       "      <td>0.000000</td>\n",
       "      <td>2.457964</td>\n",
       "    </tr>\n",
       "    <tr>\n",
       "      <th>50%</th>\n",
       "      <td>7.790569</td>\n",
       "      <td>0.591193</td>\n",
       "      <td>3.107233</td>\n",
       "    </tr>\n",
       "    <tr>\n",
       "      <th>75%</th>\n",
       "      <td>10.888362</td>\n",
       "      <td>1.017445</td>\n",
       "      <td>4.074088</td>\n",
       "    </tr>\n",
       "    <tr>\n",
       "      <th>max</th>\n",
       "      <td>13.952004</td>\n",
       "      <td>1.946348</td>\n",
       "      <td>18.971592</td>\n",
       "    </tr>\n",
       "  </tbody>\n",
       "</table>\n",
       "</div>"
      ],
      "text/plain": [
       "           Recency    Frequency  MonetaryValue\n",
       "count  2690.000000  2690.000000    2690.000000\n",
       "mean      7.875988     0.600261       3.316543\n",
       "std       3.491513     0.520911       1.760010\n",
       "min       0.000000     0.000000      -7.485305\n",
       "25%       5.186993     0.000000       2.457964\n",
       "50%       7.790569     0.591193       3.107233\n",
       "75%      10.888362     1.017445       4.074088\n",
       "max      13.952004     1.946348      18.971592"
      ]
     },
     "execution_count": 38,
     "metadata": {},
     "output_type": "execute_result"
    }
   ],
   "source": [
    "customers_fix.describe()"
   ]
  },
  {
   "cell_type": "markdown",
   "metadata": {},
   "source": [
    "### Conclusion: Looking at above description, we have to normalize the data as variables don’t have the same mean and variance."
   ]
  },
  {
   "cell_type": "markdown",
   "metadata": {},
   "source": [
<<<<<<< HEAD
    "# 6. Normalization"
=======
    "# 5. Normalization"
>>>>>>> a2b58e3b0542a9c263efc348f5659b46875e6b28
   ]
  },
  {
   "cell_type": "code",
   "execution_count": 39,
   "metadata": {},
   "outputs": [],
   "source": [
    "# Initialize the Object\n",
    "scaler = StandardScaler()\n",
    "\n",
    "# Fit and Transform The Data\n",
    "scaler.fit(customers_fix)\n",
    "\n",
    "customers_normalized = scaler.transform(customers_fix)"
   ]
  },
  {
   "cell_type": "code",
   "execution_count": 40,
   "metadata": {},
   "outputs": [
    {
     "name": "stdout",
     "output_type": "stream",
     "text": [
      "[0. 0. 0.]\n",
      "[1. 1. 1.]\n"
     ]
    }
   ],
   "source": [
    "# Assert that it has mean 0 and variance 1\n",
    "\n",
    "print(customers_normalized.mean(axis = 0).round(2)) # [0. -0. 0.]\n",
    "print(customers_normalized.std(axis = 0).round(2)) # [1. 1. 1.]"
   ]
  },
  {
   "cell_type": "code",
   "execution_count": 41,
   "metadata": {},
   "outputs": [
    {
     "data": {
      "text/html": [
       "<div>\n",
       "<style scoped>\n",
       "    .dataframe tbody tr th:only-of-type {\n",
       "        vertical-align: middle;\n",
       "    }\n",
       "\n",
       "    .dataframe tbody tr th {\n",
       "        vertical-align: top;\n",
       "    }\n",
       "\n",
       "    .dataframe thead th {\n",
       "        text-align: right;\n",
       "    }\n",
       "</style>\n",
       "<table border=\"1\" class=\"dataframe\">\n",
       "  <thead>\n",
       "    <tr style=\"text-align: right;\">\n",
       "      <th></th>\n",
       "      <th>0</th>\n",
       "      <th>1</th>\n",
       "      <th>2</th>\n",
       "    </tr>\n",
       "  </thead>\n",
       "  <tbody>\n",
       "    <tr>\n",
       "      <th>0</th>\n",
       "      <td>-0.493794</td>\n",
       "      <td>1.012426</td>\n",
       "      <td>1.017503</td>\n",
       "    </tr>\n",
       "    <tr>\n",
       "      <th>1</th>\n",
       "      <td>1.232949</td>\n",
       "      <td>-0.017412</td>\n",
       "      <td>0.925115</td>\n",
       "    </tr>\n",
       "    <tr>\n",
       "      <th>2</th>\n",
       "      <td>-0.994917</td>\n",
       "      <td>-0.017412</td>\n",
       "      <td>1.972690</td>\n",
       "    </tr>\n",
       "    <tr>\n",
       "      <th>3</th>\n",
       "      <td>-0.012582</td>\n",
       "      <td>1.012426</td>\n",
       "      <td>0.572565</td>\n",
       "    </tr>\n",
       "    <tr>\n",
       "      <th>4</th>\n",
       "      <td>1.155005</td>\n",
       "      <td>-0.017412</td>\n",
       "      <td>-0.056441</td>\n",
       "    </tr>\n",
       "  </tbody>\n",
       "</table>\n",
       "</div>"
      ],
      "text/plain": [
       "          0         1         2\n",
       "0 -0.493794  1.012426  1.017503\n",
       "1  1.232949 -0.017412  0.925115\n",
       "2 -0.994917 -0.017412  1.972690\n",
       "3 -0.012582  1.012426  0.572565\n",
       "4  1.155005 -0.017412 -0.056441"
      ]
     },
     "execution_count": 41,
     "metadata": {},
     "output_type": "execute_result"
    }
   ],
   "source": [
    "customers_normalized = pd.DataFrame(customers_normalized, columns=[0, 1, 2])\n",
    "customers_normalized.head(5)"
   ]
  },
  {
   "cell_type": "code",
   "execution_count": 42,
   "metadata": {},
   "outputs": [
    {
     "data": {
      "text/html": [
       "<div>\n",
       "<style scoped>\n",
       "    .dataframe tbody tr th:only-of-type {\n",
       "        vertical-align: middle;\n",
       "    }\n",
       "\n",
       "    .dataframe tbody tr th {\n",
       "        vertical-align: top;\n",
       "    }\n",
       "\n",
       "    .dataframe thead th {\n",
       "        text-align: right;\n",
       "    }\n",
       "</style>\n",
       "<table border=\"1\" class=\"dataframe\">\n",
       "  <thead>\n",
       "    <tr style=\"text-align: right;\">\n",
       "      <th></th>\n",
       "      <th>0</th>\n",
       "      <th>1</th>\n",
       "      <th>2</th>\n",
       "    </tr>\n",
       "  </thead>\n",
       "  <tbody>\n",
       "    <tr>\n",
       "      <th>count</th>\n",
       "      <td>2.690000e+03</td>\n",
       "      <td>2.690000e+03</td>\n",
       "      <td>2.690000e+03</td>\n",
       "    </tr>\n",
       "    <tr>\n",
       "      <th>mean</th>\n",
       "      <td>3.832333e-16</td>\n",
       "      <td>8.258574e-17</td>\n",
       "      <td>2.676298e-16</td>\n",
       "    </tr>\n",
       "    <tr>\n",
       "      <th>std</th>\n",
       "      <td>1.000186e+00</td>\n",
       "      <td>1.000186e+00</td>\n",
       "      <td>1.000186e+00</td>\n",
       "    </tr>\n",
       "    <tr>\n",
       "      <th>min</th>\n",
       "      <td>-2.256172e+00</td>\n",
       "      <td>-1.152543e+00</td>\n",
       "      <td>-6.138519e+00</td>\n",
       "    </tr>\n",
       "    <tr>\n",
       "      <th>25%</th>\n",
       "      <td>-7.702951e-01</td>\n",
       "      <td>-1.152543e+00</td>\n",
       "      <td>-4.879170e-01</td>\n",
       "    </tr>\n",
       "    <tr>\n",
       "      <th>50%</th>\n",
       "      <td>-2.446934e-02</td>\n",
       "      <td>-1.741181e-02</td>\n",
       "      <td>-1.189479e-01</td>\n",
       "    </tr>\n",
       "    <tr>\n",
       "      <th>75%</th>\n",
       "      <td>8.629309e-01</td>\n",
       "      <td>8.010226e-01</td>\n",
       "      <td>4.305007e-01</td>\n",
       "    </tr>\n",
       "    <tr>\n",
       "      <th>max</th>\n",
       "      <td>1.740548e+00</td>\n",
       "      <td>2.584582e+00</td>\n",
       "      <td>8.896516e+00</td>\n",
       "    </tr>\n",
       "  </tbody>\n",
       "</table>\n",
       "</div>"
      ],
      "text/plain": [
       "                  0             1             2\n",
       "count  2.690000e+03  2.690000e+03  2.690000e+03\n",
       "mean   3.832333e-16  8.258574e-17  2.676298e-16\n",
       "std    1.000186e+00  1.000186e+00  1.000186e+00\n",
       "min   -2.256172e+00 -1.152543e+00 -6.138519e+00\n",
       "25%   -7.702951e-01 -1.152543e+00 -4.879170e-01\n",
       "50%   -2.446934e-02 -1.741181e-02 -1.189479e-01\n",
       "75%    8.629309e-01  8.010226e-01  4.305007e-01\n",
       "max    1.740548e+00  2.584582e+00  8.896516e+00"
      ]
     },
     "execution_count": 42,
     "metadata": {},
     "output_type": "execute_result"
    }
   ],
   "source": [
    "customers_normalized.describe()"
   ]
  },
  {
   "cell_type": "code",
   "execution_count": 43,
   "metadata": {},
   "outputs": [
    {
     "data": {
      "image/png": "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\n",
      "text/plain": [
       "<Figure size 720x360 with 3 Axes>"
      ]
     },
     "metadata": {
      "needs_background": "light"
     },
     "output_type": "display_data"
    }
   ],
   "source": [
    "fig, ax = plt.subplots(1,3, figsize=(10,5))\n",
    "\n",
    "sn.distplot(customers_normalized[0], ax=ax[0])\n",
    "sn.distplot(customers_normalized[1], ax=ax[1])\n",
    "sn.distplot(customers_normalized[2], ax=ax[2])\n",
    "plt.show()"
   ]
  },
  {
   "cell_type": "markdown",
   "metadata": {},
   "source": [
<<<<<<< HEAD
    "# 7. Modelling"
=======
    "# 6. Modelling"
>>>>>>> a2b58e3b0542a9c263efc348f5659b46875e6b28
   ]
  },
  {
   "cell_type": "code",
   "execution_count": 44,
   "metadata": {},
   "outputs": [
    {
     "data": {
      "image/png": "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\n",
      "text/plain": [
       "<Figure size 432x288 with 1 Axes>"
      ]
     },
     "metadata": {
      "needs_background": "light"
     },
     "output_type": "display_data"
    }
   ],
   "source": [
    "sse = {}\n",
    "\n",
    "for k in range(1, 20):\n",
    "    kmeans = KMeans(n_clusters=k, random_state=42)\n",
    "    kmeans.fit(customers_normalized)\n",
    "    sse[k] = kmeans.inertia_ # SSE to closest cluster centroid\n",
    "    \n",
    "plt.title('The Elbow Method')\n",
    "plt.xlabel('k')\n",
    "plt.ylabel('SSE')\n",
    "sn.pointplot(x=list(sse.keys()), y=list(sse.values()))\n",
    "plt.show()"
   ]
  },
  {
   "cell_type": "markdown",
   "metadata": {},
   "source": [
    "### Colclusion: From above plot,  k = 3 is the best hyperparameter"
   ]
  },
  {
   "cell_type": "code",
   "execution_count": 45,
   "metadata": {},
   "outputs": [
    {
     "data": {
      "text/plain": [
       "(2690,)"
      ]
     },
     "execution_count": 45,
     "metadata": {},
     "output_type": "execute_result"
    }
   ],
   "source": [
    "# fit the model with k = 3\n",
    "\n",
    "model = KMeans(n_clusters=3, random_state=42)\n",
    "model.fit(customers_normalized)\n",
    "model.labels_.shape"
   ]
  },
  {
   "cell_type": "code",
   "execution_count": 46,
   "metadata": {},
   "outputs": [
    {
     "data": {
      "text/html": [
       "<div>\n",
       "<style scoped>\n",
       "    .dataframe tbody tr th:only-of-type {\n",
       "        vertical-align: middle;\n",
       "    }\n",
       "\n",
       "    .dataframe tbody tr th {\n",
       "        vertical-align: top;\n",
       "    }\n",
       "\n",
       "    .dataframe thead th {\n",
       "        text-align: right;\n",
       "    }\n",
       "</style>\n",
       "<table border=\"1\" class=\"dataframe\">\n",
       "  <thead>\n",
       "    <tr style=\"text-align: right;\">\n",
       "      <th></th>\n",
       "      <th>Recency</th>\n",
       "      <th>Frequency</th>\n",
       "      <th>MonetaryValue</th>\n",
       "      <th>Clusters</th>\n",
       "    </tr>\n",
       "    <tr>\n",
       "      <th>CustomerID</th>\n",
       "      <th></th>\n",
       "      <th></th>\n",
       "      <th></th>\n",
       "      <th></th>\n",
       "    </tr>\n",
       "  </thead>\n",
       "  <tbody>\n",
       "    <tr>\n",
       "      <th>12347.0</th>\n",
       "      <td>40</td>\n",
       "      <td>5</td>\n",
       "      <td>133.20</td>\n",
       "      <td>0</td>\n",
       "    </tr>\n",
       "    <tr>\n",
       "      <th>12348.0</th>\n",
       "      <td>249</td>\n",
       "      <td>2</td>\n",
       "      <td>120.88</td>\n",
       "      <td>2</td>\n",
       "    </tr>\n",
       "  </tbody>\n",
       "</table>\n",
       "</div>"
      ],
      "text/plain": [
       "            Recency  Frequency  MonetaryValue  Clusters\n",
       "CustomerID                                             \n",
       "12347.0          40          5         133.20         0\n",
       "12348.0         249          2         120.88         2"
      ]
     },
     "execution_count": 46,
     "metadata": {},
     "output_type": "execute_result"
    }
   ],
   "source": [
    "customers['Clusters'] = model.labels_\n",
    "customers.head(2)"
   ]
  },
  {
   "cell_type": "markdown",
   "metadata": {},
   "source": [
<<<<<<< HEAD
    "# 8. Interpretation of clusters"
=======
    "# 7. Interpretation of clusters"
>>>>>>> a2b58e3b0542a9c263efc348f5659b46875e6b28
   ]
  },
  {
   "cell_type": "code",
   "execution_count": 49,
   "metadata": {},
   "outputs": [
    {
     "data": {
      "text/html": [
       "<div>\n",
       "<style scoped>\n",
       "    .dataframe tbody tr th:only-of-type {\n",
       "        vertical-align: middle;\n",
       "    }\n",
       "\n",
       "    .dataframe tbody tr th {\n",
       "        vertical-align: top;\n",
       "    }\n",
       "\n",
       "    .dataframe thead tr th {\n",
       "        text-align: left;\n",
       "    }\n",
       "\n",
       "    .dataframe thead tr:last-of-type th {\n",
       "        text-align: right;\n",
       "    }\n",
       "</style>\n",
       "<table border=\"1\" class=\"dataframe\">\n",
       "  <thead>\n",
       "    <tr>\n",
       "      <th></th>\n",
       "      <th>Recency</th>\n",
       "      <th>Frequency</th>\n",
       "      <th colspan=\"2\" halign=\"left\">MonetaryValue</th>\n",
       "    </tr>\n",
       "    <tr>\n",
       "      <th></th>\n",
       "      <th>mean</th>\n",
       "      <th>mean</th>\n",
       "      <th>mean</th>\n",
       "      <th>count</th>\n",
       "    </tr>\n",
       "    <tr>\n",
       "      <th>Clusters</th>\n",
       "      <th></th>\n",
       "      <th></th>\n",
       "      <th></th>\n",
       "      <th></th>\n",
       "    </tr>\n",
       "  </thead>\n",
       "  <tbody>\n",
       "    <tr>\n",
       "      <th>0</th>\n",
       "      <td>46.25</td>\n",
       "      <td>7.71</td>\n",
       "      <td>165.79</td>\n",
       "      <td>924</td>\n",
       "    </tr>\n",
       "    <tr>\n",
       "      <th>1</th>\n",
       "      <td>47.62</td>\n",
       "      <td>1.61</td>\n",
       "      <td>21.51</td>\n",
       "      <td>811</td>\n",
       "    </tr>\n",
       "    <tr>\n",
       "      <th>2</th>\n",
       "      <td>227.29</td>\n",
       "      <td>1.64</td>\n",
       "      <td>28.70</td>\n",
       "      <td>955</td>\n",
       "    </tr>\n",
       "  </tbody>\n",
       "</table>\n",
       "</div>"
      ],
      "text/plain": [
       "         Recency Frequency MonetaryValue      \n",
       "            mean      mean          mean count\n",
       "Clusters                                      \n",
       "0          46.25      7.71        165.79   924\n",
       "1          47.62      1.61         21.51   811\n",
       "2         227.29      1.64         28.70   955"
      ]
     },
     "execution_count": 49,
     "metadata": {},
     "output_type": "execute_result"
    }
   ],
   "source": [
    "customers.groupby('Clusters').agg({'Recency': 'mean',\n",
    "                                   'Frequency': 'mean',\n",
    "                                   'MonetaryValue':['mean', 'count']}).round(2)"
   ]
  },
  {
   "cell_type": "markdown",
   "metadata": {},
   "source": [
    "We infer that cluster 0 is frequent, spend more, and have bought the product recently.\n",
    "Therefore, it could be the cluster of a loyal customers.\n",
    "\n",
    "Then, the cluster 1 is less frequent, spend less, but have bought the product recently.\n",
    "Therefore, it could be the cluster of new customers.\n",
    "\n",
    "Finally, the cluster 2 is less frequent, spend less, and have not bought any product in a long time.\n",
    "Therefore, it could be the cluster of churned customers."
   ]
  }
 ],
 "metadata": {
  "kernelspec": {
   "display_name": "Python 3",
   "language": "python",
   "name": "python3"
  },
  "language_info": {
   "codemirror_mode": {
    "name": "ipython",
    "version": 3
   },
   "file_extension": ".py",
   "mimetype": "text/x-python",
   "name": "python",
   "nbconvert_exporter": "python",
   "pygments_lexer": "ipython3",
   "version": "3.7.1"
  }
 },
 "nbformat": 4,
 "nbformat_minor": 2
}
